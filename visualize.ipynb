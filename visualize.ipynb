{
 "cells": [
  {
   "cell_type": "code",
   "execution_count": 1,
   "id": "d793fcad-4b63-4ee0-8a59-94d07a118731",
   "metadata": {
    "tags": []
   },
   "outputs": [],
   "source": [
    "from website_color_detector import get_image_from_url, get_website_colors_from_image, rgb2hex\n",
    "from IPython.display import display, HTML"
   ]
  },
  {
   "cell_type": "code",
   "execution_count": 2,
   "id": "c2cf6e07-95f1-434f-ad85-2d77a4738cbc",
   "metadata": {
    "tags": []
   },
   "outputs": [],
   "source": [
    "def visualize(color):\n",
    "    h = rgb2hex(*color)\n",
    "    display(HTML(f'''\n",
    "    <html>\n",
    "    <body>\n",
    "    <span style=\"color: {h};\">■</span><span>{h}<span/>\n",
    "    </body>\n",
    "    </html> \n",
    "    '''))"
   ]
  },
  {
   "cell_type": "code",
   "execution_count": 3,
   "id": "ffa8e4b9-5782-4736-aece-ca10327f3f09",
   "metadata": {
    "tags": []
   },
   "outputs": [
    {
     "data": {
      "text/html": [
       "\n",
       "    <html>\n",
       "    <body>\n",
       "    <span style=\"color: #ffd814;\">■</span><span>#ffd814<span/>\n",
       "    </body>\n",
       "    </html> \n",
       "    "
      ],
      "text/plain": [
       "<IPython.core.display.HTML object>"
      ]
     },
     "metadata": {},
     "output_type": "display_data"
    },
    {
     "data": {
      "text/html": [
       "\n",
       "    <html>\n",
       "    <body>\n",
       "    <span style=\"color: #01b9ed;\">■</span><span>#01b9ed<span/>\n",
       "    </body>\n",
       "    </html> \n",
       "    "
      ],
      "text/plain": [
       "<IPython.core.display.HTML object>"
      ]
     },
     "metadata": {},
     "output_type": "display_data"
    },
    {
     "data": {
      "text/html": [
       "\n",
       "    <html>\n",
       "    <body>\n",
       "    <span style=\"color: #00b8ec;\">■</span><span>#00b8ec<span/>\n",
       "    </body>\n",
       "    </html> \n",
       "    "
      ],
      "text/plain": [
       "<IPython.core.display.HTML object>"
      ]
     },
     "metadata": {},
     "output_type": "display_data"
    },
    {
     "data": {
      "text/html": [
       "\n",
       "    <html>\n",
       "    <body>\n",
       "    <span style=\"color: #dfb786;\">■</span><span>#dfb786<span/>\n",
       "    </body>\n",
       "    </html> \n",
       "    "
      ],
      "text/plain": [
       "<IPython.core.display.HTML object>"
      ]
     },
     "metadata": {},
     "output_type": "display_data"
    },
    {
     "data": {
      "text/html": [
       "\n",
       "    <html>\n",
       "    <body>\n",
       "    <span style=\"color: #c69575;\">■</span><span>#c69575<span/>\n",
       "    </body>\n",
       "    </html> \n",
       "    "
      ],
      "text/plain": [
       "<IPython.core.display.HTML object>"
      ]
     },
     "metadata": {},
     "output_type": "display_data"
    }
   ],
   "source": [
    "image = get_image_from_url(\"www.amazon.com\")\n",
    "colors = get_website_colors_from_image(image)\n",
    "for color in colors:\n",
    "    visualize(color)"
   ]
  },
  {
   "cell_type": "code",
   "execution_count": null,
   "id": "e21fa85c-2471-44df-aa12-83675ee18611",
   "metadata": {},
   "outputs": [],
   "source": []
  }
 ],
 "metadata": {
  "kernelspec": {
   "display_name": "Python 3 (ipykernel)",
   "language": "python",
   "name": "python3"
  },
  "language_info": {
   "codemirror_mode": {
    "name": "ipython",
    "version": 3
   },
   "file_extension": ".py",
   "mimetype": "text/x-python",
   "name": "python",
   "nbconvert_exporter": "python",
   "pygments_lexer": "ipython3",
   "version": "3.11.3"
  }
 },
 "nbformat": 4,
 "nbformat_minor": 5
}
